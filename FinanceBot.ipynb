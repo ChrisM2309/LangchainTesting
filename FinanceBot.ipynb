{
  "cells": [
    {
      "cell_type": "markdown",
      "metadata": {
        "id": "view-in-github",
        "colab_type": "text"
      },
      "source": [
        "<a href=\"https://colab.research.google.com/github/ChrisM2309/LangchainTesting/blob/main/FinanceBot.ipynb\" target=\"_parent\"><img src=\"https://colab.research.google.com/assets/colab-badge.svg\" alt=\"Open In Colab\"/></a>"
      ]
    },
    {
      "cell_type": "code",
      "execution_count": 2,
      "metadata": {
        "colab": {
          "base_uri": "https://localhost:8080/"
        },
        "collapsed": true,
        "id": "-OjBgn_oAaZS",
        "outputId": "ca7b671c-634f-4543-f9e0-bd081881fb0d"
      },
      "outputs": [
        {
          "output_type": "stream",
          "name": "stdout",
          "text": [
            "Requirement already satisfied: langchain in /usr/local/lib/python3.11/dist-packages (0.3.19)\n",
            "Requirement already satisfied: langchain-core<1.0.0,>=0.3.35 in /usr/local/lib/python3.11/dist-packages (from langchain) (0.3.37)\n",
            "Requirement already satisfied: langchain-text-splitters<1.0.0,>=0.3.6 in /usr/local/lib/python3.11/dist-packages (from langchain) (0.3.6)\n",
            "Requirement already satisfied: langsmith<0.4,>=0.1.17 in /usr/local/lib/python3.11/dist-packages (from langchain) (0.3.8)\n",
            "Requirement already satisfied: pydantic<3.0.0,>=2.7.4 in /usr/local/lib/python3.11/dist-packages (from langchain) (2.10.6)\n",
            "Requirement already satisfied: SQLAlchemy<3,>=1.4 in /usr/local/lib/python3.11/dist-packages (from langchain) (2.0.38)\n",
            "Requirement already satisfied: requests<3,>=2 in /usr/local/lib/python3.11/dist-packages (from langchain) (2.32.3)\n",
            "Requirement already satisfied: PyYAML>=5.3 in /usr/local/lib/python3.11/dist-packages (from langchain) (6.0.2)\n",
            "Requirement already satisfied: aiohttp<4.0.0,>=3.8.3 in /usr/local/lib/python3.11/dist-packages (from langchain) (3.11.12)\n",
            "Requirement already satisfied: tenacity!=8.4.0,<10,>=8.1.0 in /usr/local/lib/python3.11/dist-packages (from langchain) (9.0.0)\n",
            "Requirement already satisfied: numpy<2,>=1.26.4 in /usr/local/lib/python3.11/dist-packages (from langchain) (1.26.4)\n",
            "Requirement already satisfied: aiohappyeyeballs>=2.3.0 in /usr/local/lib/python3.11/dist-packages (from aiohttp<4.0.0,>=3.8.3->langchain) (2.4.6)\n",
            "Requirement already satisfied: aiosignal>=1.1.2 in /usr/local/lib/python3.11/dist-packages (from aiohttp<4.0.0,>=3.8.3->langchain) (1.3.2)\n",
            "Requirement already satisfied: attrs>=17.3.0 in /usr/local/lib/python3.11/dist-packages (from aiohttp<4.0.0,>=3.8.3->langchain) (25.1.0)\n",
            "Requirement already satisfied: frozenlist>=1.1.1 in /usr/local/lib/python3.11/dist-packages (from aiohttp<4.0.0,>=3.8.3->langchain) (1.5.0)\n",
            "Requirement already satisfied: multidict<7.0,>=4.5 in /usr/local/lib/python3.11/dist-packages (from aiohttp<4.0.0,>=3.8.3->langchain) (6.1.0)\n",
            "Requirement already satisfied: propcache>=0.2.0 in /usr/local/lib/python3.11/dist-packages (from aiohttp<4.0.0,>=3.8.3->langchain) (0.2.1)\n",
            "Requirement already satisfied: yarl<2.0,>=1.17.0 in /usr/local/lib/python3.11/dist-packages (from aiohttp<4.0.0,>=3.8.3->langchain) (1.18.3)\n",
            "Requirement already satisfied: jsonpatch<2.0,>=1.33 in /usr/local/lib/python3.11/dist-packages (from langchain-core<1.0.0,>=0.3.35->langchain) (1.33)\n",
            "Requirement already satisfied: packaging<25,>=23.2 in /usr/local/lib/python3.11/dist-packages (from langchain-core<1.0.0,>=0.3.35->langchain) (24.2)\n",
            "Requirement already satisfied: typing-extensions>=4.7 in /usr/local/lib/python3.11/dist-packages (from langchain-core<1.0.0,>=0.3.35->langchain) (4.12.2)\n",
            "Requirement already satisfied: httpx<1,>=0.23.0 in /usr/local/lib/python3.11/dist-packages (from langsmith<0.4,>=0.1.17->langchain) (0.28.1)\n",
            "Requirement already satisfied: orjson<4.0.0,>=3.9.14 in /usr/local/lib/python3.11/dist-packages (from langsmith<0.4,>=0.1.17->langchain) (3.10.15)\n",
            "Requirement already satisfied: requests-toolbelt<2.0.0,>=1.0.0 in /usr/local/lib/python3.11/dist-packages (from langsmith<0.4,>=0.1.17->langchain) (1.0.0)\n",
            "Requirement already satisfied: zstandard<0.24.0,>=0.23.0 in /usr/local/lib/python3.11/dist-packages (from langsmith<0.4,>=0.1.17->langchain) (0.23.0)\n",
            "Requirement already satisfied: annotated-types>=0.6.0 in /usr/local/lib/python3.11/dist-packages (from pydantic<3.0.0,>=2.7.4->langchain) (0.7.0)\n",
            "Requirement already satisfied: pydantic-core==2.27.2 in /usr/local/lib/python3.11/dist-packages (from pydantic<3.0.0,>=2.7.4->langchain) (2.27.2)\n",
            "Requirement already satisfied: charset-normalizer<4,>=2 in /usr/local/lib/python3.11/dist-packages (from requests<3,>=2->langchain) (3.4.1)\n",
            "Requirement already satisfied: idna<4,>=2.5 in /usr/local/lib/python3.11/dist-packages (from requests<3,>=2->langchain) (3.10)\n",
            "Requirement already satisfied: urllib3<3,>=1.21.1 in /usr/local/lib/python3.11/dist-packages (from requests<3,>=2->langchain) (2.3.0)\n",
            "Requirement already satisfied: certifi>=2017.4.17 in /usr/local/lib/python3.11/dist-packages (from requests<3,>=2->langchain) (2025.1.31)\n",
            "Requirement already satisfied: greenlet!=0.4.17 in /usr/local/lib/python3.11/dist-packages (from SQLAlchemy<3,>=1.4->langchain) (3.1.1)\n",
            "Requirement already satisfied: anyio in /usr/local/lib/python3.11/dist-packages (from httpx<1,>=0.23.0->langsmith<0.4,>=0.1.17->langchain) (3.7.1)\n",
            "Requirement already satisfied: httpcore==1.* in /usr/local/lib/python3.11/dist-packages (from httpx<1,>=0.23.0->langsmith<0.4,>=0.1.17->langchain) (1.0.7)\n",
            "Requirement already satisfied: h11<0.15,>=0.13 in /usr/local/lib/python3.11/dist-packages (from httpcore==1.*->httpx<1,>=0.23.0->langsmith<0.4,>=0.1.17->langchain) (0.14.0)\n",
            "Requirement already satisfied: jsonpointer>=1.9 in /usr/local/lib/python3.11/dist-packages (from jsonpatch<2.0,>=1.33->langchain-core<1.0.0,>=0.3.35->langchain) (3.0.0)\n",
            "Requirement already satisfied: sniffio>=1.1 in /usr/local/lib/python3.11/dist-packages (from anyio->httpx<1,>=0.23.0->langsmith<0.4,>=0.1.17->langchain) (1.3.1)\n"
          ]
        }
      ],
      "source": [
        "pip install langchain"
      ]
    },
    {
      "cell_type": "code",
      "execution_count": 3,
      "metadata": {
        "colab": {
          "base_uri": "https://localhost:8080/"
        },
        "collapsed": true,
        "id": "In3EpAtuK8p1",
        "outputId": "faa2197e-6df9-4f6f-b85d-8a43a44ab2d1"
      },
      "outputs": [
        {
          "output_type": "stream",
          "name": "stdout",
          "text": [
            "Collecting langchain_community\n",
            "  Downloading langchain_community-0.3.18-py3-none-any.whl.metadata (2.4 kB)\n",
            "Requirement already satisfied: openai in /usr/local/lib/python3.11/dist-packages (1.61.1)\n",
            "Requirement already satisfied: langchain-core<1.0.0,>=0.3.37 in /usr/local/lib/python3.11/dist-packages (from langchain_community) (0.3.37)\n",
            "Requirement already satisfied: langchain<1.0.0,>=0.3.19 in /usr/local/lib/python3.11/dist-packages (from langchain_community) (0.3.19)\n",
            "Requirement already satisfied: SQLAlchemy<3,>=1.4 in /usr/local/lib/python3.11/dist-packages (from langchain_community) (2.0.38)\n",
            "Requirement already satisfied: requests<3,>=2 in /usr/local/lib/python3.11/dist-packages (from langchain_community) (2.32.3)\n",
            "Requirement already satisfied: PyYAML>=5.3 in /usr/local/lib/python3.11/dist-packages (from langchain_community) (6.0.2)\n",
            "Requirement already satisfied: aiohttp<4.0.0,>=3.8.3 in /usr/local/lib/python3.11/dist-packages (from langchain_community) (3.11.12)\n",
            "Requirement already satisfied: tenacity!=8.4.0,<10,>=8.1.0 in /usr/local/lib/python3.11/dist-packages (from langchain_community) (9.0.0)\n",
            "Collecting dataclasses-json<0.7,>=0.5.7 (from langchain_community)\n",
            "  Downloading dataclasses_json-0.6.7-py3-none-any.whl.metadata (25 kB)\n",
            "Collecting pydantic-settings<3.0.0,>=2.4.0 (from langchain_community)\n",
            "  Downloading pydantic_settings-2.8.0-py3-none-any.whl.metadata (3.5 kB)\n",
            "Requirement already satisfied: langsmith<0.4,>=0.1.125 in /usr/local/lib/python3.11/dist-packages (from langchain_community) (0.3.8)\n",
            "Collecting httpx-sse<1.0.0,>=0.4.0 (from langchain_community)\n",
            "  Downloading httpx_sse-0.4.0-py3-none-any.whl.metadata (9.0 kB)\n",
            "Requirement already satisfied: numpy<2,>=1.26.4 in /usr/local/lib/python3.11/dist-packages (from langchain_community) (1.26.4)\n",
            "Requirement already satisfied: anyio<5,>=3.5.0 in /usr/local/lib/python3.11/dist-packages (from openai) (3.7.1)\n",
            "Requirement already satisfied: distro<2,>=1.7.0 in /usr/local/lib/python3.11/dist-packages (from openai) (1.9.0)\n",
            "Requirement already satisfied: httpx<1,>=0.23.0 in /usr/local/lib/python3.11/dist-packages (from openai) (0.28.1)\n",
            "Requirement already satisfied: jiter<1,>=0.4.0 in /usr/local/lib/python3.11/dist-packages (from openai) (0.8.2)\n",
            "Requirement already satisfied: pydantic<3,>=1.9.0 in /usr/local/lib/python3.11/dist-packages (from openai) (2.10.6)\n",
            "Requirement already satisfied: sniffio in /usr/local/lib/python3.11/dist-packages (from openai) (1.3.1)\n",
            "Requirement already satisfied: tqdm>4 in /usr/local/lib/python3.11/dist-packages (from openai) (4.67.1)\n",
            "Requirement already satisfied: typing-extensions<5,>=4.11 in /usr/local/lib/python3.11/dist-packages (from openai) (4.12.2)\n",
            "Requirement already satisfied: aiohappyeyeballs>=2.3.0 in /usr/local/lib/python3.11/dist-packages (from aiohttp<4.0.0,>=3.8.3->langchain_community) (2.4.6)\n",
            "Requirement already satisfied: aiosignal>=1.1.2 in /usr/local/lib/python3.11/dist-packages (from aiohttp<4.0.0,>=3.8.3->langchain_community) (1.3.2)\n",
            "Requirement already satisfied: attrs>=17.3.0 in /usr/local/lib/python3.11/dist-packages (from aiohttp<4.0.0,>=3.8.3->langchain_community) (25.1.0)\n",
            "Requirement already satisfied: frozenlist>=1.1.1 in /usr/local/lib/python3.11/dist-packages (from aiohttp<4.0.0,>=3.8.3->langchain_community) (1.5.0)\n",
            "Requirement already satisfied: multidict<7.0,>=4.5 in /usr/local/lib/python3.11/dist-packages (from aiohttp<4.0.0,>=3.8.3->langchain_community) (6.1.0)\n",
            "Requirement already satisfied: propcache>=0.2.0 in /usr/local/lib/python3.11/dist-packages (from aiohttp<4.0.0,>=3.8.3->langchain_community) (0.2.1)\n",
            "Requirement already satisfied: yarl<2.0,>=1.17.0 in /usr/local/lib/python3.11/dist-packages (from aiohttp<4.0.0,>=3.8.3->langchain_community) (1.18.3)\n",
            "Requirement already satisfied: idna>=2.8 in /usr/local/lib/python3.11/dist-packages (from anyio<5,>=3.5.0->openai) (3.10)\n",
            "Collecting marshmallow<4.0.0,>=3.18.0 (from dataclasses-json<0.7,>=0.5.7->langchain_community)\n",
            "  Downloading marshmallow-3.26.1-py3-none-any.whl.metadata (7.3 kB)\n",
            "Collecting typing-inspect<1,>=0.4.0 (from dataclasses-json<0.7,>=0.5.7->langchain_community)\n",
            "  Downloading typing_inspect-0.9.0-py3-none-any.whl.metadata (1.5 kB)\n",
            "Requirement already satisfied: certifi in /usr/local/lib/python3.11/dist-packages (from httpx<1,>=0.23.0->openai) (2025.1.31)\n",
            "Requirement already satisfied: httpcore==1.* in /usr/local/lib/python3.11/dist-packages (from httpx<1,>=0.23.0->openai) (1.0.7)\n",
            "Requirement already satisfied: h11<0.15,>=0.13 in /usr/local/lib/python3.11/dist-packages (from httpcore==1.*->httpx<1,>=0.23.0->openai) (0.14.0)\n",
            "Requirement already satisfied: langchain-text-splitters<1.0.0,>=0.3.6 in /usr/local/lib/python3.11/dist-packages (from langchain<1.0.0,>=0.3.19->langchain_community) (0.3.6)\n",
            "Requirement already satisfied: jsonpatch<2.0,>=1.33 in /usr/local/lib/python3.11/dist-packages (from langchain-core<1.0.0,>=0.3.37->langchain_community) (1.33)\n",
            "Requirement already satisfied: packaging<25,>=23.2 in /usr/local/lib/python3.11/dist-packages (from langchain-core<1.0.0,>=0.3.37->langchain_community) (24.2)\n",
            "Requirement already satisfied: orjson<4.0.0,>=3.9.14 in /usr/local/lib/python3.11/dist-packages (from langsmith<0.4,>=0.1.125->langchain_community) (3.10.15)\n",
            "Requirement already satisfied: requests-toolbelt<2.0.0,>=1.0.0 in /usr/local/lib/python3.11/dist-packages (from langsmith<0.4,>=0.1.125->langchain_community) (1.0.0)\n",
            "Requirement already satisfied: zstandard<0.24.0,>=0.23.0 in /usr/local/lib/python3.11/dist-packages (from langsmith<0.4,>=0.1.125->langchain_community) (0.23.0)\n",
            "Requirement already satisfied: annotated-types>=0.6.0 in /usr/local/lib/python3.11/dist-packages (from pydantic<3,>=1.9.0->openai) (0.7.0)\n",
            "Requirement already satisfied: pydantic-core==2.27.2 in /usr/local/lib/python3.11/dist-packages (from pydantic<3,>=1.9.0->openai) (2.27.2)\n",
            "Collecting python-dotenv>=0.21.0 (from pydantic-settings<3.0.0,>=2.4.0->langchain_community)\n",
            "  Downloading python_dotenv-1.0.1-py3-none-any.whl.metadata (23 kB)\n",
            "Requirement already satisfied: charset-normalizer<4,>=2 in /usr/local/lib/python3.11/dist-packages (from requests<3,>=2->langchain_community) (3.4.1)\n",
            "Requirement already satisfied: urllib3<3,>=1.21.1 in /usr/local/lib/python3.11/dist-packages (from requests<3,>=2->langchain_community) (2.3.0)\n",
            "Requirement already satisfied: greenlet!=0.4.17 in /usr/local/lib/python3.11/dist-packages (from SQLAlchemy<3,>=1.4->langchain_community) (3.1.1)\n",
            "Requirement already satisfied: jsonpointer>=1.9 in /usr/local/lib/python3.11/dist-packages (from jsonpatch<2.0,>=1.33->langchain-core<1.0.0,>=0.3.37->langchain_community) (3.0.0)\n",
            "Collecting mypy-extensions>=0.3.0 (from typing-inspect<1,>=0.4.0->dataclasses-json<0.7,>=0.5.7->langchain_community)\n",
            "  Downloading mypy_extensions-1.0.0-py3-none-any.whl.metadata (1.1 kB)\n",
            "Downloading langchain_community-0.3.18-py3-none-any.whl (2.5 MB)\n",
            "\u001b[2K   \u001b[90m━━━━━━━━━━━━━━━━━━━━━━━━━━━━━━━━━━━━━━━━\u001b[0m \u001b[32m2.5/2.5 MB\u001b[0m \u001b[31m17.4 MB/s\u001b[0m eta \u001b[36m0:00:00\u001b[0m\n",
            "\u001b[?25hDownloading dataclasses_json-0.6.7-py3-none-any.whl (28 kB)\n",
            "Downloading httpx_sse-0.4.0-py3-none-any.whl (7.8 kB)\n",
            "Downloading pydantic_settings-2.8.0-py3-none-any.whl (30 kB)\n",
            "Downloading marshmallow-3.26.1-py3-none-any.whl (50 kB)\n",
            "\u001b[2K   \u001b[90m━━━━━━━━━━━━━━━━━━━━━━━━━━━━━━━━━━━━━━━━\u001b[0m \u001b[32m50.9/50.9 kB\u001b[0m \u001b[31m3.3 MB/s\u001b[0m eta \u001b[36m0:00:00\u001b[0m\n",
            "\u001b[?25hDownloading python_dotenv-1.0.1-py3-none-any.whl (19 kB)\n",
            "Downloading typing_inspect-0.9.0-py3-none-any.whl (8.8 kB)\n",
            "Downloading mypy_extensions-1.0.0-py3-none-any.whl (4.7 kB)\n",
            "Installing collected packages: python-dotenv, mypy-extensions, marshmallow, httpx-sse, typing-inspect, pydantic-settings, dataclasses-json, langchain_community\n",
            "Successfully installed dataclasses-json-0.6.7 httpx-sse-0.4.0 langchain_community-0.3.18 marshmallow-3.26.1 mypy-extensions-1.0.0 pydantic-settings-2.8.0 python-dotenv-1.0.1 typing-inspect-0.9.0\n"
          ]
        }
      ],
      "source": [
        "pip install langchain_community openai"
      ]
    },
    {
      "cell_type": "code",
      "execution_count": 4,
      "metadata": {
        "colab": {
          "base_uri": "https://localhost:8080/"
        },
        "collapsed": true,
        "id": "bDKY6YXYAi0L",
        "outputId": "8b5cb209-a9b4-4a3c-e07e-2231c2ad606c"
      },
      "outputs": [
        {
          "output_type": "stream",
          "name": "stdout",
          "text": [
            "Requirement already satisfied: openai in /usr/local/lib/python3.11/dist-packages (1.61.1)\n",
            "Requirement already satisfied: anyio<5,>=3.5.0 in /usr/local/lib/python3.11/dist-packages (from openai) (3.7.1)\n",
            "Requirement already satisfied: distro<2,>=1.7.0 in /usr/local/lib/python3.11/dist-packages (from openai) (1.9.0)\n",
            "Requirement already satisfied: httpx<1,>=0.23.0 in /usr/local/lib/python3.11/dist-packages (from openai) (0.28.1)\n",
            "Requirement already satisfied: jiter<1,>=0.4.0 in /usr/local/lib/python3.11/dist-packages (from openai) (0.8.2)\n",
            "Requirement already satisfied: pydantic<3,>=1.9.0 in /usr/local/lib/python3.11/dist-packages (from openai) (2.10.6)\n",
            "Requirement already satisfied: sniffio in /usr/local/lib/python3.11/dist-packages (from openai) (1.3.1)\n",
            "Requirement already satisfied: tqdm>4 in /usr/local/lib/python3.11/dist-packages (from openai) (4.67.1)\n",
            "Requirement already satisfied: typing-extensions<5,>=4.11 in /usr/local/lib/python3.11/dist-packages (from openai) (4.12.2)\n",
            "Requirement already satisfied: idna>=2.8 in /usr/local/lib/python3.11/dist-packages (from anyio<5,>=3.5.0->openai) (3.10)\n",
            "Requirement already satisfied: certifi in /usr/local/lib/python3.11/dist-packages (from httpx<1,>=0.23.0->openai) (2025.1.31)\n",
            "Requirement already satisfied: httpcore==1.* in /usr/local/lib/python3.11/dist-packages (from httpx<1,>=0.23.0->openai) (1.0.7)\n",
            "Requirement already satisfied: h11<0.15,>=0.13 in /usr/local/lib/python3.11/dist-packages (from httpcore==1.*->httpx<1,>=0.23.0->openai) (0.14.0)\n",
            "Requirement already satisfied: annotated-types>=0.6.0 in /usr/local/lib/python3.11/dist-packages (from pydantic<3,>=1.9.0->openai) (0.7.0)\n",
            "Requirement already satisfied: pydantic-core==2.27.2 in /usr/local/lib/python3.11/dist-packages (from pydantic<3,>=1.9.0->openai) (2.27.2)\n"
          ]
        }
      ],
      "source": [
        "!pip install openai"
      ]
    },
    {
      "cell_type": "markdown",
      "source": [
        "Haciendo los import y configurando la api key"
      ],
      "metadata": {
        "id": "NVBYg_WF8KzC"
      }
    },
    {
      "cell_type": "code",
      "execution_count": 5,
      "metadata": {
        "id": "a7yeYvGvDaO5",
        "colab": {
          "base_uri": "https://localhost:8080/"
        },
        "outputId": "f5ced949-778b-4592-b877-a352abefc79d"
      },
      "outputs": [
        {
          "output_type": "stream",
          "name": "stderr",
          "text": [
            "<ipython-input-5-7c5c98998788>:17: LangChainDeprecationWarning: The class `OpenAI` was deprecated in LangChain 0.0.10 and will be removed in 1.0. An updated version of the class exists in the :class:`~langchain-openai package and should be used instead. To use it run `pip install -U :class:`~langchain-openai` and import as `from :class:`~langchain_openai import OpenAI``.\n",
            "  client = OpenAI(\n"
          ]
        }
      ],
      "source": [
        "import os\n",
        "from openai import OpenAI as OpenAI\n",
        "\n",
        "from langchain.chat_models import ChatOpenAI\n",
        "from langchain.agents import initialize_agent, Tool, load_tools\n",
        "from langchain.schema import HumanMessage, SystemMessage, AIMessage\n",
        "from langchain.llms import OpenAI as OpenAI\n",
        "from langchain.memory import ConversationBufferMemory\n",
        "from langchain.chains import LLMChain, SimpleSequentialChain\n",
        "from langchain.prompts import PromptTemplate\n",
        "\n",
        "import json\n",
        "\n",
        "from google.colab import userdata\n",
        "OPENAI_API_KEY = userdata.get('OPENAI_API_KEY')\n",
        "\n",
        "client = OpenAI(\n",
        "    api_key = OPENAI_API_KEY\n",
        ")\n",
        "os.environ[\"OPENAI_API_KEY\"] = OPENAI_API_KEY"
      ]
    },
    {
      "cell_type": "code",
      "execution_count": 6,
      "metadata": {
        "collapsed": true,
        "id": "gjXkhEDgS-VA",
        "colab": {
          "base_uri": "https://localhost:8080/"
        },
        "outputId": "ac6f8a01-e56d-48c8-c2e6-fb2b207a39b9"
      },
      "outputs": [
        {
          "output_type": "stream",
          "name": "stderr",
          "text": [
            "<ipython-input-6-44457f2654b1>:2: LangChainDeprecationWarning: The class `ChatOpenAI` was deprecated in LangChain 0.0.10 and will be removed in 1.0. An updated version of the class exists in the :class:`~langchain-openai package and should be used instead. To use it run `pip install -U :class:`~langchain-openai` and import as `from :class:`~langchain_openai import ChatOpenAI``.\n",
            "  chat = ChatOpenAI(model=\"gpt-4o-mini\")\n"
          ]
        }
      ],
      "source": [
        "#ChatBot Type\n",
        "chat = ChatOpenAI(model=\"gpt-4o-mini\")"
      ]
    },
    {
      "cell_type": "markdown",
      "source": [
        "# CREAR TOOLS\n"
      ],
      "metadata": {
        "id": "dacx99YaAtWl"
      }
    },
    {
      "cell_type": "code",
      "source": [
        "# CHAINS\n",
        "# Crear una cadena (Chain) para registrar transacciones\n",
        "prompt_registrar = PromptTemplate(\n",
        "    input_variables=[\"input\"],\n",
        "    template=\"\"\"\"\n",
        "    Del input recibido, analiza con precaucion y extrae los parametros necesarios para hacer el registro:\n",
        "    - Tipo (Ingreso o Gasto)\n",
        "    - Monto (número)\n",
        "    - Categoría (texto)\n",
        "    - Descripción (texto, opcional, usa '' si no está presente)\n",
        "\n",
        "    Texto: \"{input}\"\n",
        "\n",
        "    Devuelve la respuesta en formato \"(tipo) registrado con (monto) en (categoria) con (descripcion).\".\n",
        "    \"\"\"\n",
        ")\n",
        "\n",
        "chain_registrar = LLMChain(llm=chat, prompt=prompt_registrar)\n",
        "\n",
        "tool_registrar = Tool(\n",
        "    name=\"registrar_transaccion\",\n",
        "    func=lambda x: chain_registrar.run(input=x),\n",
        "    description=\"Sirve para registrar un ingreso o gasto con tipo (Ingreso/Gasto), monto (número), categoria (texto) y descripcion (texto) (opcional).\")\n",
        "\n",
        "\n",
        "# CALCULO DE FLUJO DE CAJA\n",
        "prompt_flujo_caja = PromptTemplate(\n",
        "    input_variables=[\"input\"],\n",
        "    template=\"\"\"\n",
        "    Analiza el siguiente texto y extrae los parámetros para calcular el flujo de caja:\n",
        "    - Ingresos (número)\n",
        "    - Gastos (número)\n",
        "\n",
        "    Texto: \"{input}\"\n",
        "\n",
        "    Calcula el saldo (ingresos - gastos) y devuelve el resultado en formato:\n",
        "    \"🔹 Ingresos: $(ingresos) 🔹 Gastos: $(gastos)🔹 Saldo: $(saldo)\"\n",
        "    \"\"\"\n",
        ")\n",
        "chain_flujo_caja = LLMChain(llm=chat, prompt=prompt_flujo_caja)\n",
        "\n",
        "tool_flujo_caja = Tool(\n",
        "    name=\"calcular_flujo_caja\",\n",
        "    func=lambda x: chain_flujo_caja.run(input=x),\n",
        "    description=\"Calcula el flujo de caja a partir de ingresos y gastos.\"\n",
        ")\n",
        "\n",
        "\n",
        "# CONFIGURAR PRESUPUESTO\n",
        "prompt_presupuesto = PromptTemplate(\n",
        "    input_variables=[\"input\"],\n",
        "    template=\"\"\"\n",
        "    Analiza el siguiente texto y extrae los parámetros para configurar un presupuesto:\n",
        "    - Categoría (texto)\n",
        "    - Monto (número)\n",
        "\n",
        "    Texto: \"{input}\"\n",
        "\n",
        "    Devuelve el resultado en formato: \"✅ Presupuesto de ${monto} para {categoria} configurado.\"\n",
        "    \"\"\"\n",
        ")\n",
        "\n",
        "chain_presupuesto = LLMChain(llm=chat, prompt=prompt_presupuesto)\n",
        "\n",
        "tool_presupuesto = Tool(\n",
        "    name=\"configurar_presupuesto\",\n",
        "    func= lambda x: chain_presupuesto.run(input=x),\n",
        "    description=\"Configura un presupuesto para una categoría.\"\n",
        ")\n",
        "\n",
        "# RESPONDER PREGUNTAS FINANCEIRAS\n",
        "prompt_preguntas = PromptTemplate(\n",
        "    input_variables=[\"input\"],\n",
        "    template=\"\"\"\n",
        "    Responde la siguiente pregunta financiera de manera clara y sencilla:\n",
        "    \"{input}\"\n",
        "    Usa toda la informacion disponible para responder la pregunta. Si es necesarios, debes consultar la memoria para obtener datos relevantes.\n",
        "    \"\"\"\n",
        ")\n",
        "chain_preguntas = LLMChain(llm=chat, prompt=prompt_preguntas)\n",
        "\n",
        "tool_preguntas = Tool(\n",
        "    name=\"responder_pregunta\",\n",
        "    func=lambda x: chain_preguntas.run(input=x),\n",
        "    description=\"Responde preguntas financieras generales o relacionadas con la memoria\"\n",
        ")"
      ],
      "metadata": {
        "id": "sQlJaXY2A3GT"
      },
      "execution_count": 11,
      "outputs": []
    },
    {
      "cell_type": "code",
      "source": [
        "# Añadir la herramienta procesar_multiples tools e indicaciones\n",
        "# Prompt para descomponer el mensaje\n",
        "prompt_descomponer = PromptTemplate(\n",
        "    input_variables=[\"input\"],\n",
        "    template=\"\"\"\n",
        "    Analiza el siguiente texto y descompónlo en una lista de tareas a ejecutar. Para cada tarea, identifica:\n",
        "    - Herramienta a usar: \"registrar_transaccion\", \"calcular_flujo_caja\", \"configurar_presupuesto\",  \"responder_pregunta\", etc...\n",
        "    - Input específico para esa herramienta (como texto o parámetros)\n",
        "\n",
        "    Texto: {input}\n",
        "\n",
        "    Para el output:\n",
        "    Devuelve el resultado como una lista de objetos JSON, donde cada objeto tiene:\n",
        "    \"tool\": nombre de la herramienta\n",
        "    \"input\": texto que contiene el input de la herramienta, con todos los parametros necesarios para ejecutarla.\n",
        "\n",
        "    Ejemplo:\n",
        "    Input: \"Registra un ingreso de $100 en ventas y calcula el flujo de caja con ingresos de $500 y gastos de $300.\"\n",
        "    Output: [\n",
        "        {{\"tool\": \"registrar_transaccion\", \"input\": \"Registra un ingreso de $100 en ventas.\"}},\n",
        "        {{tool\": \"calcular_flujo_caja\", \"input\": \"Calcula el flujo de caja con ingresos de $500 y gastos de $300.\"}}\n",
        "    ]\n",
        "    \"\"\"\n",
        ")\n",
        "#chain para descomponer\n",
        "chain_descomponer = LLMChain(llm=chat, prompt=prompt_descomponer)\n",
        "\n",
        "#Funcion para la implementacion de tool\n",
        "def procesar_multiples_tool(input_text):\n",
        "    tareas_json = chain_descomponer.run(input=input_text)\n",
        "    try:\n",
        "        tareas = json.loads(tareas_json)\n",
        "    except json.JSONDecodeError as e:\n",
        "        return f\"Error al procesar las tareas: {str(e)}\"\n",
        "\n",
        "    herramientas = {\n",
        "        \"registrar_transaccion\": lambda x: chain_registrar.run(input=x),\n",
        "        \"calcular_flujo_caja\": lambda x: chain_flujo_caja.run(input=x),\n",
        "        \"configurar_presupuesto\": lambda x: chain_presupuesto.run(input=x),\n",
        "        \"responder_pregunta\": lambda x: chain_preguntas.run(input=x),\n",
        "        \"manejar_deudas\": lambda x: chain_deudas.run(input=x)\n",
        "        # Agrega más herramientas según sea necesario\n",
        "    }\n",
        "    resultados = []\n",
        "    for tarea in tareas:\n",
        "        tool_name = tarea[\"tool\"]\n",
        "        tool_input = tarea[\"input\"]\n",
        "        resultado = herramientas[tool_name](tool_input)\n",
        "        resultados.append(resultado)\n",
        "    return \"\\n\".join(resultados)\n",
        "#instancia de tool\n",
        "tool_multiples = Tool(\n",
        "    name=\"procesar_multiples\",\n",
        "    func=procesar_multiples_tool,\n",
        "    description=\"Procesa un mensaje con múltiples instrucciones y ejecuta las herramientas en orden.\"\n",
        ")"
      ],
      "metadata": {
        "id": "l34D2OOZnuAT"
      },
      "execution_count": 22,
      "outputs": []
    },
    {
      "cell_type": "code",
      "source": [
        "#Chain para manejo de deudas\n",
        "\n",
        "#Prompt de deudas\n",
        "prompt_deudas = PromptTemplate(\n",
        "    input_variables=[\"input\"],\n",
        "    template=\"\"\"\n",
        "    Del siguiente texto, extrae los parametros para manejar un deuda:\n",
        "    - Acccion (agregar, pagar, consultar) o similares\n",
        "    - Monto (número)\n",
        "    - Plazo (número)\n",
        "    - Acreedor (texto)\n",
        "    - Interés (número, opcional)\n",
        "    - Fecha de vencimiento (fecha)\n",
        "    - Descripción (texto, opcional, usa '' si no está presente)\n",
        "\n",
        "    Texto: \"{input}\"\n",
        "\n",
        "    Devuelve la respuesta en formato:\n",
        "    Segun la accion que se quiera realizar, devolver una respuesta diferente:\n",
        "    - Agregar: \"Deuda de $(monto) a (acreedor) con vencimiento (fecha_vencimiento) agregada\" (Agregar 'interes' y otros parametros si existen)\n",
        "    - Pagar: \"Deuda de $(monto) a (acreedor) con vencimiento (fecha_vencimiento) pagada\" (Agregar 'interes' y otros parametros si existen)\n",
        "    - Consultar: \"Lista de deudas: (lista_deudas)\"\n",
        "    \"\"\"\n",
        ")\n",
        "def manejar_deudas_tool(input_text):\n",
        "    return chain_deudas.run(input=input_text)\\\n",
        "\n",
        "#chain de deudas\n",
        "chain_deudas = LLMChain(llm=chat, prompt=prompt_deudas)\n",
        "tool_deudas = Tool(\n",
        "    name = \"manejar_deudas\",\n",
        "    func = manejar_deudas_tool,\n",
        "    description = \"Sirve para manejar deudas. Puede agregar, pagar o consultar deudas.\"\n",
        ")\n"
      ],
      "metadata": {
        "id": "4FBj6V_-6yGU"
      },
      "execution_count": 15,
      "outputs": []
    },
    {
      "cell_type": "code",
      "source": [
        "#Balance general\n",
        "prompt_balance\t= PromptTemplate(\n",
        "    input_variables=[\"input\"],\n",
        "    template=\"\"\"\n",
        "    PARA ESTA TAREA ES ESENCIAL QUE CONSULTES LA MEMORIA DE BUFFER EXISTENTE Y/O EL TEXTO INGRESADO PARA EXTRAER LOS PARAMETROS NECESARIOS PARA GENERAR UN BALANCE GENERAL:\n",
        "    Comsulta la memoria existente y/o el texto ingresado para extraer los parámetros para generar un balance general:\n",
        "    usa toda la informacion que tengas disponible para completar lo siguiente:\n",
        "    - Suma de todos los ingresos registrados : CONSULTA EN LA MEMORIA TODOS LOS INGRESOS QUE SE HAN REGISTRADO Y SUMALOS\n",
        "    - Suma de todos los gastos registrados: CONSULTA EN LA MEMORIA TODOS LOS GASTOS QUE SE HAN REGISTRADO Y SUMALOS\n",
        "    - Calcular el balance (ingresos - gastos) : RESTA LOS VALORES QUE OBTUVISTE\n",
        "\n",
        "    Texto: \"{input}\"\n",
        "\n",
        "    Devuelve el resultado en formato:\n",
        "    \"Balance general: Ingresos $(ingresos) - $(gastos) = $(balance)\"\n",
        "    \"\"\"\n",
        ")\n",
        "\n",
        "chain_balance = LLMChain(llm = chat, prompt = prompt_balance)\n",
        "\n",
        "tool_balance = Tool(\n",
        "    name = \"balance_general\",\n",
        "    func = lambda x: chain_balance.run(input = x),\n",
        "    description = \"Calcula el balance general de ingresos y gastos.\"\n",
        ")"
      ],
      "metadata": {
        "id": "QAs-Ti2zFef2"
      },
      "execution_count": 44,
      "outputs": []
    },
    {
      "cell_type": "markdown",
      "source": [
        "# CONFIGURAR AL AGENTE"
      ],
      "metadata": {
        "id": "ifP7WpY7BQzC"
      }
    },
    {
      "cell_type": "code",
      "source": [
        "memory = ConversationBufferMemory(memory_key=\"chat_history\")\n",
        "\n",
        "# Inicializar el agente\n",
        "# Lista de herramientas\n",
        "tools = [\n",
        "    tool_registrar,\n",
        "    tool_flujo_caja,\n",
        "    tool_presupuesto,\n",
        "    tool_preguntas,\n",
        "    tool_multiples,\n",
        "    tool_deudas,\n",
        "    tool_balance\n",
        "  ]\n",
        "\n",
        "# Inicializar el agente\n",
        "agente = initialize_agent(\n",
        "    tools = tools,\n",
        "    llm = chat,\n",
        "    agent=\"conversational-react-description\",\n",
        "    verbose=True,\n",
        "    max_iterations = 10,\n",
        "    memory = memory\n",
        "    )"
      ],
      "metadata": {
        "id": "3pZIk4EEBfZ-"
      },
      "execution_count": 28,
      "outputs": []
    },
    {
      "cell_type": "markdown",
      "source": [
        "TESTEO DEL AGENTE"
      ],
      "metadata": {
        "id": "e3G9swPKBs2L"
      }
    },
    {
      "cell_type": "code",
      "source": [
        "print(agente.run(\"Quiero registrar un pago de $30 en electricidad, uno de $40 en internet. Luego, tengo que registrar un ingreso de $100 en ventas. Luego, calcula el flujo de caja con los valores anteriores y por ultimo, asigna una deuda de $40 para el 20 de marzo de 2025\"))"
      ],
      "metadata": {
        "colab": {
          "base_uri": "https://localhost:8080/"
        },
        "id": "ChshmBpr9eLe",
        "outputId": "2ace2fdf-972e-41b2-93a7-2c54b398bf44"
      },
      "execution_count": 24,
      "outputs": [
        {
          "output_type": "stream",
          "name": "stdout",
          "text": [
            "\n",
            "\n",
            "\u001b[1m> Entering new AgentExecutor chain...\u001b[0m\n",
            "\u001b[32;1m\u001b[1;3m```\n",
            "Thought: Do I need to use a tool? Yes\n",
            "Action: procesar_multiples\n",
            "Action Input: [\n",
            "    {\"action\": \"registrar_transaccion\", \"type\": \"Gasto\", \"amount\": 30, \"category\": \"Electricidad\", \"description\": \"Pago de electricidad\"},\n",
            "    {\"action\": \"registrar_transaccion\", \"type\": \"Gasto\", \"amount\": 40, \"category\": \"Internet\", \"description\": \"Pago de internet\"},\n",
            "    {\"action\": \"registrar_transaccion\", \"type\": \"Ingreso\", \"amount\": 100, \"category\": \"Ventas\", \"description\": \"Ingreso por ventas\"},\n",
            "    {\"action\": \"calcular_flujo_caja\", \"amounts\": [100, -30, -40]},\n",
            "    {\"action\": \"manejar_deudas\", \"type\": \"agregar\", \"amount\": 40, \"due_date\": \"2024-03-20\"}\n",
            "]\n",
            "```\n",
            "\u001b[0m\n",
            "Observation: \u001b[33;1m\u001b[1;3mError al procesar las tareas: Expecting value: line 1 column 1 (char 0)\u001b[0m\n",
            "Thought:\u001b[32;1m\u001b[1;3mDo I need to use a tool? Yes\n",
            "Action: procesar_multiples\n",
            "Action Input: [\n",
            "    {\"action\": \"registrar_transaccion\", \"type\": \"Gasto\", \"amount\": 30, \"category\": \"Electricidad\", \"description\": \"Pago de electricidad\"},\n",
            "    {\"action\": \"registrar_transaccion\", \"type\": \"Gasto\", \"amount\": 40, \"category\": \"Internet\", \"description\": \"Pago de internet\"},\n",
            "    {\"action\": \"registrar_transaccion\", \"type\": \"Ingreso\", \"amount\": 100, \"category\": \"Ventas\", \"description\": \"Ingreso por ventas\"},\n",
            "    {\"action\": \"calcular_flujo_caja\", \"amounts\": [100, -30, -40]},\n",
            "    {\"action\": \"manejar_deudas\", \"type\": \"agregar\", \"amount\": 40, \"due_date\": \"2024-03-20\"}\n",
            "]\u001b[0m\n",
            "Observation: \u001b[33;1m\u001b[1;3mError al procesar las tareas: Expecting value: line 1 column 1 (char 0)\u001b[0m\n",
            "Thought:\u001b[32;1m\u001b[1;3mDo I need to use a tool? Yes  \n",
            "Action: procesar_multiples  \n",
            "Action Input: [{\"action\": \"registrar_transaccion\", \"type\": \"Gasto\", \"amount\": 30, \"category\": \"Electricidad\", \"description\": \"Pago de electricidad\"}, {\"action\": \"registrar_transaccion\", \"type\": \"Gasto\", \"amount\": 40, \"category\": \"Internet\", \"description\": \"Pago de internet\"}, {\"action\": \"registrar_transaccion\", \"type\": \"Ingreso\", \"amount\": 100, \"category\": \"Ventas\", \"description\": \"Ingreso por ventas\"}, {\"action\": \"calcular_flujo_caja\", \"amounts\": [100, -30, -40]}, {\"action\": \"manejar_deudas\", \"type\": \"agregar\", \"amount\": 40, \"due_date\": \"2024-03-20\"}]  \u001b[0m\n",
            "Observation: \u001b[33;1m\u001b[1;3mError al procesar las tareas: Expecting value: line 1 column 1 (char 0)\u001b[0m\n",
            "Thought:\u001b[32;1m\u001b[1;3mDo I need to use a tool? Yes  \n",
            "Action: registrar_transaccion  \n",
            "Action Input: {\"type\":\"Gasto\",\"amount\":30,\"category\":\"Electricidad\",\"description\":\"Pago de electricidad\"}  \u001b[0m\n",
            "Observation: \u001b[36;1m\u001b[1;3mGasto registrado con 30 en Electricidad con Pago de electricidad.\u001b[0m\n",
            "Thought:\u001b[32;1m\u001b[1;3mDo I need to use a tool? Yes  \n",
            "Action: registrar_transaccion  \n",
            "Action Input: {\"type\":\"Gasto\",\"amount\":40,\"category\":\"Internet\",\"description\":\"Pago de internet\"}  \u001b[0m\n",
            "Observation: \u001b[36;1m\u001b[1;3mGasto registrado con 40 en Internet con Pago de internet.\u001b[0m\n",
            "Thought:\u001b[32;1m\u001b[1;3mDo I need to use a tool? Yes  \n",
            "Action: registrar_transaccion  \n",
            "Action Input: {\"type\":\"Ingreso\",\"amount\":100,\"category\":\"Ventas\",\"description\":\"Ingreso por ventas\"}  \u001b[0m\n",
            "Observation: \u001b[36;1m\u001b[1;3mIngreso registrado con 100 en Ventas con Ingreso por ventas.\u001b[0m\n",
            "Thought:\u001b[32;1m\u001b[1;3mDo I need to use a tool? Yes  \n",
            "Action: calcular_flujo_caja  \n",
            "Action Input: {\"amounts\": [100, -30, -40]}  \u001b[0m\n",
            "Observation: \u001b[33;1m\u001b[1;3mPara el texto proporcionado, vamos a identificar los ingresos y gastos.\n",
            "\n",
            "El texto es: `{\"amounts\": [100, -30, -40]}`\n",
            "\n",
            "- Ingresos: 100 (el número positivo)\n",
            "- Gastos: 30 + 40 = 70 (la suma de los números negativos)\n",
            "\n",
            "Ahora calculamos el saldo:\n",
            "\n",
            "Saldo = Ingresos - Gastos  \n",
            "Saldo = 100 - 70 = 30\n",
            "\n",
            "Finalmente, el resultado se presenta en el formato solicitado:\n",
            "\n",
            "\"🔹 Ingresos: $100 🔹 Gastos: $70 🔹 Saldo: $30\"\u001b[0m\n",
            "Thought:\u001b[32;1m\u001b[1;3mDo I need to use a tool? Yes  \n",
            "Action: manejar_deudas  \n",
            "Action Input: {\"type\":\"agregar\",\"amount\":40,\"due_date\":\"2024-03-20\"}  \u001b[0m\n",
            "Observation: \u001b[38;5;200m\u001b[1;3mPara el texto proporcionado: `{\"type\":\"agregar\",\"amount\":40,\"due_date\":\"2024-03-20\"}`\n",
            "\n",
            "Los parámetros extraídos son:\n",
            "- Acción: agregar\n",
            "- Monto: 40\n",
            "- Plazo: (no especificado)\n",
            "- Acreedor: '' (no especificado)\n",
            "- Interés: (no especificado)\n",
            "- Fecha de vencimiento: 2024-03-20\n",
            "- Descripción: '' (no especificado)\n",
            "\n",
            "Dado que la acción es \"agregar\", la respuesta sería:\n",
            "\n",
            "\"Deuda de $40 a  con vencimiento 2024-03-20 agregada\"\u001b[0m\n",
            "Thought:\u001b[32;1m\u001b[1;3mDo I need to use a tool? No  \n",
            "AI: Todos los registros se han completado con éxito. Aquí está el resumen de las transacciones y el flujo de caja:\n",
            "\n",
            "1. **Gastos:**\n",
            "   - $30 en Electricidad\n",
            "   - $40 en Internet\n",
            "\n",
            "2. **Ingreso:**\n",
            "   - $100 en Ventas\n",
            "\n",
            "3. **Flujo de Caja:**\n",
            "   - **Ingresos:** $100\n",
            "   - **Gastos:** $70\n",
            "   - **Saldo:** $30\n",
            "\n",
            "4. **Deuda:**\n",
            "   - Deuda de $40 agregada con vencimiento el 20 de marzo de 2024.\n",
            "\n",
            "Si necesitas más ayuda, ¡hazmelo saber!\u001b[0m\n",
            "\n",
            "\u001b[1m> Finished chain.\u001b[0m\n",
            "Todos los registros se han completado con éxito. Aquí está el resumen de las transacciones y el flujo de caja:\n",
            "\n",
            "1. **Gastos:**\n",
            "   - $30 en Electricidad\n",
            "   - $40 en Internet\n",
            "\n",
            "2. **Ingreso:**\n",
            "   - $100 en Ventas\n",
            "\n",
            "3. **Flujo de Caja:**\n",
            "   - **Ingresos:** $100\n",
            "   - **Gastos:** $70\n",
            "   - **Saldo:** $30\n",
            "\n",
            "4. **Deuda:**\n",
            "   - Deuda de $40 agregada con vencimiento el 20 de marzo de 2024.\n",
            "\n",
            "Si necesitas más ayuda, ¡hazmelo saber!\n"
          ]
        }
      ]
    },
    {
      "cell_type": "code",
      "source": [
        "#print(agente.run(\"Registra un gasto de $150 en insumos y un ingreso de $200 en ventas.\"))\n",
        "print(agente.run(\"¿Qué es el flujo de caja?\"))\n",
        "print(agente.run(\"Calcula el flujo de caja con ingresos de $500 y gastos de $300.\"))\n",
        "print(agente.run(\"Registra un gasto de $200 en publiicidad.\"))\n",
        "print(agente.run(\"Cuanto he gastado en total?\"))\n",
        "print(agente.run(\"¿Qué es el flujo de caja?\"))\n"
      ],
      "metadata": {
        "colab": {
          "base_uri": "https://localhost:8080/"
        },
        "id": "RTUDrlzGBrDJ",
        "outputId": "7440a3e2-72d7-4f4e-af1a-7f423605c0a7"
      },
      "execution_count": 41,
      "outputs": [
        {
          "output_type": "stream",
          "name": "stdout",
          "text": [
            "\n",
            "\n",
            "\u001b[1m> Entering new AgentExecutor chain...\u001b[0m\n",
            "\u001b[32;1m\u001b[1;3m```\n",
            "Thought: Do I need to use a tool? No\n",
            "AI: El flujo de caja es un término financiero que se refiere al movimiento de dinero dentro y fuera de una empresa o entidad en un período determinado. Es un indicador clave de la salud financiera de una organización, ya que muestra cómo se generan y utilizan los fondos. \n",
            "\n",
            "Un flujo de caja positivo significa que una empresa está generando más dinero del que gasta, lo que es generalmente una señal de buena salud financiera. Por otro lado, un flujo de caja negativo puede indicar problemas financieros, ya que significa que los gastos superan a los ingresos.\n",
            "\n",
            "El flujo de caja se puede dividir en tres categorías:\n",
            "1. **Flujo de caja de operaciones**: Dinero generado o utilizado en las actividades principales de la empresa, como ventas y gastos operativos.\n",
            "2. **Flujo de caja de inversión**: Dinero gastado o recibido a través de inversiones en activos a largo plazo, como la compra o venta de propiedades o equipos.\n",
            "3. **Flujo de caja de financiación**: Dinero recibido o pagado relacionado con la financiación de la empresa, como préstamos, emisión de acciones o pago de dividendos.\n",
            "\n",
            "El análisis del flujo de caja es crucial para la planificación financiera y la toma de decisiones.\n",
            "```\u001b[0m\n",
            "\n",
            "\u001b[1m> Finished chain.\u001b[0m\n",
            "El flujo de caja es un término financiero que se refiere al movimiento de dinero dentro y fuera de una empresa o entidad en un período determinado. Es un indicador clave de la salud financiera de una organización, ya que muestra cómo se generan y utilizan los fondos. \n",
            "\n",
            "Un flujo de caja positivo significa que una empresa está generando más dinero del que gasta, lo que es generalmente una señal de buena salud financiera. Por otro lado, un flujo de caja negativo puede indicar problemas financieros, ya que significa que los gastos superan a los ingresos.\n",
            "\n",
            "El flujo de caja se puede dividir en tres categorías:\n",
            "1. **Flujo de caja de operaciones**: Dinero generado o utilizado en las actividades principales de la empresa, como ventas y gastos operativos.\n",
            "2. **Flujo de caja de inversión**: Dinero gastado o recibido a través de inversiones en activos a largo plazo, como la compra o venta de propiedades o equipos.\n",
            "3. **Flujo de caja de financiación**: Dinero recibido o pagado relacionado con la financiación de la empresa, como préstamos, emisión de acciones o pago de dividendos.\n",
            "\n",
            "El análisis del flujo de caja es crucial para la planificación financiera y la toma de decisiones.\n",
            "```\n",
            "\n",
            "\n",
            "\u001b[1m> Entering new AgentExecutor chain...\u001b[0m\n",
            "\u001b[32;1m\u001b[1;3m```\n",
            "Thought: Do I need to use a tool? Yes\n",
            "Action: calcular_flujo_caja\n",
            "Action Input: {\"ingresos\": 500, \"gastos\": 300}\u001b[0m\n",
            "Observation: \u001b[33;1m\u001b[1;3mPara extraer los parámetros del texto proporcionado:\n",
            "\n",
            "- Ingresos: 500\n",
            "- Gastos: 300\n",
            "\n",
            "Ahora, calculamos el saldo:\n",
            "\n",
            "Saldo = Ingresos - Gastos = 500 - 300 = 200\n",
            "\n",
            "Finalmente, el resultado en el formato solicitado es:\n",
            "\n",
            "\"🔹 Ingresos: $500 🔹 Gastos: $300 🔹 Saldo: $200\"\u001b[0m\n",
            "Thought:\u001b[32;1m\u001b[1;3mDo I need to use a tool? No  \n",
            "AI: Aquí tienes el cálculo del flujo de caja:\n",
            "\n",
            "🔹 Ingresos: $500  \n",
            "🔹 Gastos: $300  \n",
            "🔹 Saldo: $200  \n",
            "\n",
            "Esto significa que tienes un flujo de caja positivo de $200.\u001b[0m\n",
            "\n",
            "\u001b[1m> Finished chain.\u001b[0m\n",
            "Aquí tienes el cálculo del flujo de caja:\n",
            "\n",
            "🔹 Ingresos: $500  \n",
            "🔹 Gastos: $300  \n",
            "🔹 Saldo: $200  \n",
            "\n",
            "Esto significa que tienes un flujo de caja positivo de $200.\n",
            "\n",
            "\n",
            "\u001b[1m> Entering new AgentExecutor chain...\u001b[0m\n",
            "\u001b[32;1m\u001b[1;3m```\n",
            "Thought: Do I need to use a tool? Yes\n",
            "Action: registrar_transaccion\n",
            "Action Input: {\"tipo\":\"Gasto\",\"monto\":200,\"categoria\":\"Publicidad\",\"descripcion\":\"\"}\u001b[0m\n",
            "Observation: \u001b[36;1m\u001b[1;3mGasto registrado con 200 en Publicidad con ''.\u001b[0m\n",
            "Thought:\u001b[32;1m\u001b[1;3mDo I need to use a tool? No  \n",
            "AI: He registrado un gasto de $200 en la categoría de publicidad. Si necesitas realizar más acciones o tienes alguna otra pregunta, ¡házmelo saber!\u001b[0m\n",
            "\n",
            "\u001b[1m> Finished chain.\u001b[0m\n",
            "He registrado un gasto de $200 en la categoría de publicidad. Si necesitas realizar más acciones o tienes alguna otra pregunta, ¡házmelo saber!\n",
            "\n",
            "\n",
            "\u001b[1m> Entering new AgentExecutor chain...\u001b[0m\n",
            "\u001b[32;1m\u001b[1;3m```\n",
            "Thought: Do I need to use a tool? Yes\n",
            "Action: balance_general\n",
            "Action Input: \u001b[0m\n",
            "Observation: \u001b[36;1m\u001b[1;3mParece que no hay información disponible en la memoria o en el texto ingresado para realizar los cálculos necesarios. Para poder generar un balance general, necesitaría datos específicos sobre los ingresos y gastos registrados.\n",
            "\n",
            "Si puedes proporcionar la información sobre los ingresos y gastos, estaré encantado de ayudarte a calcular el balance.\u001b[0m\n",
            "Thought:\u001b[32;1m\u001b[1;3mDo I need to use a tool? No\n",
            "AI: Actualmente, solo tengo registrado un gasto de $200 en publicidad. Si no has realizado otros gastos, entonces el total gastado es de $200. Si tienes más información sobre otros gastos, por favor compártela y podré calcular el total.\u001b[0m\n",
            "\n",
            "\u001b[1m> Finished chain.\u001b[0m\n",
            "Actualmente, solo tengo registrado un gasto de $200 en publicidad. Si no has realizado otros gastos, entonces el total gastado es de $200. Si tienes más información sobre otros gastos, por favor compártela y podré calcular el total.\n",
            "\n",
            "\n",
            "\u001b[1m> Entering new AgentExecutor chain...\u001b[0m\n",
            "\u001b[32;1m\u001b[1;3m```\n",
            "Thought: Do I need to use a tool? No\n",
            "AI: El flujo de caja es un término financiero que se refiere al movimiento de dinero dentro y fuera de una empresa o entidad en un período determinado. Es un indicador clave de la salud financiera de una organización, ya que muestra cómo se generan y utilizan los fondos.\n",
            "\n",
            "Un flujo de caja positivo significa que una empresa está generando más dinero del que gasta, lo que es generalmente una señal de buena salud financiera. Por otro lado, un flujo de caja negativo puede indicar problemas financieros, ya que significa que los gastos superan a los ingresos.\n",
            "\n",
            "El flujo de caja se puede dividir en tres categorías:\n",
            "1. **Flujo de caja de operaciones**: Dinero generado o utilizado en las actividades principales de la empresa, como ventas y gastos operativos.\n",
            "2. **Flujo de caja de inversión**: Dinero gastado o recibido a través de inversiones en activos a largo plazo, como la compra o venta de propiedades o equipos.\n",
            "3. **Flujo de caja de financiación**: Dinero recibido o pagado relacionado con la financiación de la empresa, como préstamos, emisión de acciones o pago de dividendos.\n",
            "\n",
            "El análisis del flujo de caja es crucial para la planificación financiera y la toma de decisiones.\n",
            "```\u001b[0m\n",
            "\n",
            "\u001b[1m> Finished chain.\u001b[0m\n",
            "El flujo de caja es un término financiero que se refiere al movimiento de dinero dentro y fuera de una empresa o entidad en un período determinado. Es un indicador clave de la salud financiera de una organización, ya que muestra cómo se generan y utilizan los fondos.\n",
            "\n",
            "Un flujo de caja positivo significa que una empresa está generando más dinero del que gasta, lo que es generalmente una señal de buena salud financiera. Por otro lado, un flujo de caja negativo puede indicar problemas financieros, ya que significa que los gastos superan a los ingresos.\n",
            "\n",
            "El flujo de caja se puede dividir en tres categorías:\n",
            "1. **Flujo de caja de operaciones**: Dinero generado o utilizado en las actividades principales de la empresa, como ventas y gastos operativos.\n",
            "2. **Flujo de caja de inversión**: Dinero gastado o recibido a través de inversiones en activos a largo plazo, como la compra o venta de propiedades o equipos.\n",
            "3. **Flujo de caja de financiación**: Dinero recibido o pagado relacionado con la financiación de la empresa, como préstamos, emisión de acciones o pago de dividendos.\n",
            "\n",
            "El análisis del flujo de caja es crucial para la planificación financiera y la toma de decisiones.\n",
            "```\n"
          ]
        }
      ]
    },
    {
      "cell_type": "code",
      "source": [
        "print(agente.run(\"Responde como pregunta financiera, dame un resumen de todas las operaciones que he realizado\"))"
      ],
      "metadata": {
        "id": "aSvYXKnDEmmZ",
        "outputId": "6c0ee4e0-710a-4bfb-cf08-52a74752abfc",
        "colab": {
          "base_uri": "https://localhost:8080/"
        }
      },
      "execution_count": 42,
      "outputs": [
        {
          "output_type": "stream",
          "name": "stdout",
          "text": [
            "\n",
            "\n",
            "\u001b[1m> Entering new AgentExecutor chain...\u001b[0m\n",
            "\u001b[32;1m\u001b[1;3m```\n",
            "Thought: Do I need to use a tool? Yes\n",
            "Action: responder_pregunta\n",
            "Action Input: Dame un resumen de todas las operaciones realizadas.\u001b[0m\n",
            "Observation: \u001b[36;1m\u001b[1;3mPara poder ofrecerte un resumen de todas las operaciones realizadas, necesitaría información específica sobre las transacciones o actividades financieras en cuestión. Sin embargo, puedo explicarte cómo estructurar un resumen de operaciones financieras, que generalmente incluye:\n",
            "\n",
            "1. **Fecha de la operación**: Indica cuándo se realizó cada transacción.\n",
            "2. **Descripción de la operación**: Detalla qué tipo de operación fue, por ejemplo, compra de activos, venta de productos, pago de deudas, etc.\n",
            "3. **Monto de la operación**: Especifica el valor monetario involucrado en cada transacción.\n",
            "4. **Parte involucrada**: Menciona quién realizó la operación y con quién se realizó (proveedores, clientes, etc.).\n",
            "5. **Resultado de la operación**: Indica el efecto de la operación en la situación financiera (ganancia, pérdida, flujo de efectivo, etc.).\n",
            "\n",
            "Si puedes proporcionar detalles específicos sobre las operaciones que deseas resumir, estaré encantado de ayudarte a elaborar un resumen más concreto.\u001b[0m\n",
            "Thought:\u001b[32;1m\u001b[1;3m```\n",
            "Thought: Do I need to use a tool? No\n",
            "AI: Actualmente, solo tengo registrada una operación financiera, que es un gasto de $200 en publicidad. Si has realizado otras operaciones y puedes proporcionarme los detalles, estaré encantado de ayudarte a elaborar un resumen más completo. Por favor, comparte la información sobre las transacciones adicionales que deseas incluir en el resumen.\n",
            "```\u001b[0m\n",
            "\n",
            "\u001b[1m> Finished chain.\u001b[0m\n",
            "Actualmente, solo tengo registrada una operación financiera, que es un gasto de $200 en publicidad. Si has realizado otras operaciones y puedes proporcionarme los detalles, estaré encantado de ayudarte a elaborar un resumen más completo. Por favor, comparte la información sobre las transacciones adicionales que deseas incluir en el resumen.\n",
            "```\n"
          ]
        }
      ]
    },
    {
      "cell_type": "code",
      "source": [
        "print(agente.run(\"Calcula el balance general de ingresos y gastos.\"))"
      ],
      "metadata": {
        "id": "Uatl7msdG6tA",
        "outputId": "4e47f64a-6ffd-4ebf-a11b-217623386773",
        "colab": {
          "base_uri": "https://localhost:8080/"
        }
      },
      "execution_count": 45,
      "outputs": [
        {
          "output_type": "stream",
          "name": "stdout",
          "text": [
            "\n",
            "\n",
            "\u001b[1m> Entering new AgentExecutor chain...\u001b[0m\n",
            "\u001b[32;1m\u001b[1;3m```\n",
            "Thought: Do I need to use a tool? Yes\n",
            "Action: balance_general\n",
            "Action Input: {}\u001b[0m\n",
            "Observation: \u001b[36;1m\u001b[1;3mParece que no tengo acceso a información previa o a una memoria de datos para consultar los ingresos y gastos registrados. Sin embargo, si me proporcionas los datos de ingresos y gastos, puedo ayudarte a calcular el balance general. Por favor, indícame los valores para proceder.\u001b[0m\n",
            "Thought:\u001b[32;1m\u001b[1;3mDo I need to use a tool? No  \n",
            "AI: Parece que no tengo acceso a información previa o a una memoria de datos para consultar los ingresos y gastos registrados. Sin embargo, si me proporcionas los datos de ingresos y gastos, puedo ayudarte a calcular el balance general. Por favor, indícame los valores para proceder.\u001b[0m\n",
            "\n",
            "\u001b[1m> Finished chain.\u001b[0m\n",
            "Parece que no tengo acceso a información previa o a una memoria de datos para consultar los ingresos y gastos registrados. Sin embargo, si me proporcionas los datos de ingresos y gastos, puedo ayudarte a calcular el balance general. Por favor, indícame los valores para proceder.\n"
          ]
        }
      ]
    }
  ],
  "metadata": {
    "colab": {
      "provenance": [],
      "authorship_tag": "ABX9TyMzG+iZBbRmkOGZEpVAKOhc",
      "include_colab_link": true
    },
    "kernelspec": {
      "display_name": "Python 3",
      "name": "python3"
    },
    "language_info": {
      "name": "python"
    }
  },
  "nbformat": 4,
  "nbformat_minor": 0
}